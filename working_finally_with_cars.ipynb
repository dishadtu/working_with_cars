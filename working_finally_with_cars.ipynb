{
  "nbformat": 4,
  "nbformat_minor": 0,
  "metadata": {
    "colab": {
      "provenance": [],
      "authorship_tag": "ABX9TyM28OZ3W0u/w+7BkQLoNAM0",
      "include_colab_link": true
    },
    "kernelspec": {
      "name": "python3",
      "display_name": "Python 3"
    },
    "language_info": {
      "name": "python"
    }
  },
  "cells": [
    {
      "cell_type": "markdown",
      "metadata": {
        "id": "view-in-github",
        "colab_type": "text"
      },
      "source": [
        "<a href=\"https://colab.research.google.com/github/dishadtu/working_with_cars/blob/main/working_finally_with_cars.ipynb\" target=\"_parent\"><img src=\"https://colab.research.google.com/assets/colab-badge.svg\" alt=\"Open In Colab\"/></a>"
      ]
    },
    {
      "cell_type": "code",
      "execution_count": null,
      "metadata": {
        "colab": {
          "base_uri": "https://localhost:8080/"
        },
        "id": "7OYxeUXWByPx",
        "outputId": "89768f28-6d5f-46f6-d864-44e94e9514ce"
      },
      "outputs": [
        {
          "output_type": "stream",
          "name": "stdout",
          "text": [
            "The video was successfully saved\n"
          ]
        }
      ],
      "source": [
        "\n",
        "# Import libraries\n",
        "# https://github.com/Aman-Preet-Singh-Gulati/Vehicle-count-detect\n",
        "from PIL import Image\n",
        "import cv2\n",
        "import numpy as np\n",
        "import requests   \n",
        "from google.colab.patches import cv2_imshow\n",
        "cascade_src = 'cars.xml'\n",
        "video_src = 'cars5.mp4'\n",
        "\n",
        "   \n",
        "# Create an object to read \n",
        "# from camera\n",
        "video = cv2.VideoCapture(video_src)\n",
        "   \n",
        "# We need to check if camera\n",
        "# is opened previously or not\n",
        "if (video.isOpened() == False): \n",
        "    print(\"Error reading video file\")\n",
        "  \n",
        "# We need to set resolutions.\n",
        "# so, convert them from float to integer.\n",
        "frame_width = int(video.get(3))\n",
        "frame_height = int(video.get(4))\n",
        "   \n",
        "size = (frame_width, frame_height)\n",
        "car_cascade_src = 'cars.xml'\n",
        "car_cascade = cv2.CascadeClassifier(car_cascade_src)\n",
        "result = cv2.VideoWriter('filename.avi', \n",
        "                         cv2.VideoWriter_fourcc(*'MJPG'),\n",
        "                         10, size)   \n",
        "\n",
        "    \n",
        "while(True):\n",
        "    ret, frame = video.read()\n",
        "    if ret == True: \n",
        "       \n",
        "        gray = cv2.cvtColor(frame, cv2.COLOR_BGR2GRAY)\n",
        "        cars = car_cascade.detectMultiScale(gray, 1.1, 2)\n",
        "\n",
        "        for (x,y,w,h) in cars:\n",
        "          cv2.rectangle(frame,(x,y),(x+w,y+h),(0,255,255),2)\n",
        "\n",
        "        # Below VideoWriter object will create\n",
        "        # a frame of above defined The output \n",
        "        # is stored in 'filename.avi' file.\n",
        "        result.write(frame)\n",
        "\n",
        "        # Press S on keyboard \n",
        "        # to stop the process\n",
        "        if cv2.waitKey(1) & 0xFF == ord('s'):\n",
        "            break\n",
        "  \n",
        "    # Break the loop\n",
        "    else:\n",
        "        break\n",
        "  \n",
        "# When everything done, release \n",
        "# the video capture and video \n",
        "# write objects\n",
        "video.release()\n",
        "result.release()\n",
        "    \n",
        "# Closes all the frames\n",
        "cv2.destroyAllWindows()\n",
        "   \n",
        "print(\"The video was successfully saved\")"
      ]
    }
  ]
}